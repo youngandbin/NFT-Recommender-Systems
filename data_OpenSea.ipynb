{
 "cells": [
  {
   "cell_type": "markdown",
   "metadata": {},
   "source": [
    "# Retrieving bundles\n",
    "- https://docs.opensea.io/reference/retrieving-bundles\n",
    "- limit: 50까지"
   ]
  },
  {
   "cell_type": "code",
   "execution_count": 220,
   "metadata": {},
   "outputs": [
    {
     "name": "stdout",
     "output_type": "stream",
     "text": [
      "20\n"
     ]
    }
   ],
   "source": [
    "import requests\n",
    "\n",
    "url = \"https://api.opensea.io/api/v1/bundles?limit=20&offset=0\"\n",
    "response = requests.request(\"GET\", url)\n",
    "\n",
    "bundles_list = response.json()['bundles']\n",
    "print(len(bundles_list))"
   ]
  },
  {
   "cell_type": "code",
   "execution_count": 221,
   "metadata": {},
   "outputs": [
    {
     "name": "stdout",
     "output_type": "stream",
     "text": [
      "maker\n",
      "slug\n",
      "assets\n",
      "name\n",
      "description\n",
      "external_link\n",
      "asset_contract\n",
      "permalink\n",
      "sell_orders\n"
     ]
    }
   ],
   "source": [
    "item = bundles_list[1]\n",
    "\n",
    "for key, value in item.items():\n",
    "    print(key)\n"
   ]
  },
  {
   "cell_type": "code",
   "execution_count": 222,
   "metadata": {},
   "outputs": [
    {
     "data": {
      "text/plain": [
       "{'user': {'username': 'PoopStars'},\n",
       " 'profile_img_url': 'https://storage.googleapis.com/opensea-static/opensea-profile/3.png',\n",
       " 'address': '0xa590870e16288831ce9ebcea873396b37bc7565d',\n",
       " 'config': ''}"
      ]
     },
     "execution_count": 222,
     "metadata": {},
     "output_type": "execute_result"
    }
   ],
   "source": [
    "item['maker']"
   ]
  },
  {
   "cell_type": "code",
   "execution_count": 223,
   "metadata": {},
   "outputs": [
    {
     "data": {
      "text/plain": [
       "'poopstars-5-items-bundle-UAj'"
      ]
     },
     "execution_count": 223,
     "metadata": {},
     "output_type": "execute_result"
    }
   ],
   "source": [
    "item['slug']\n"
   ]
  },
  {
   "cell_type": "code",
   "execution_count": 224,
   "metadata": {},
   "outputs": [
    {
     "data": {
      "text/plain": [
       "'PoopStars 5 items bundle'"
      ]
     },
     "execution_count": 224,
     "metadata": {},
     "output_type": "execute_result"
    }
   ],
   "source": [
    "item['name']\n"
   ]
  },
  {
   "cell_type": "code",
   "execution_count": 225,
   "metadata": {},
   "outputs": [
    {
     "data": {
      "text/plain": [
       "'***This bundle includes a 30% discount in regard to its individual items.***\\n\\nThis bundle includes the following 5 items: Lebron James, Chuck Norris, Anya Taylor-Joy, Kim Kardashian, Vladimir Putin.\\n\\n\\n\\n100 unique characters on the Ethereum blockchain released bit by bit. The Earth has been attacked and only survived 100 unique people who were doing something specific at that time, they were... pooping!'"
      ]
     },
     "execution_count": 225,
     "metadata": {},
     "output_type": "execute_result"
    }
   ],
   "source": [
    "item['description']\n"
   ]
  },
  {
   "cell_type": "code",
   "execution_count": 226,
   "metadata": {},
   "outputs": [
    {
     "data": {
      "text/plain": [
       "'http://thepoopstars.com/'"
      ]
     },
     "execution_count": 226,
     "metadata": {},
     "output_type": "execute_result"
    }
   ],
   "source": [
    "item['external_link']\n"
   ]
  },
  {
   "cell_type": "code",
   "execution_count": 227,
   "metadata": {},
   "outputs": [
    {
     "data": {
      "text/plain": [
       "'https://opensea.io/bundles/poopstars-5-items-bundle-UAj'"
      ]
     },
     "execution_count": 227,
     "metadata": {},
     "output_type": "execute_result"
    }
   ],
   "source": [
    "item['permalink']\n"
   ]
  },
  {
   "cell_type": "markdown",
   "metadata": {},
   "source": [
    "## assets\n",
    "- 긴거: asset_contract, collection, owner\n",
    "- 안뜸: decimals, token_metadata, is_nsfw"
   ]
  },
  {
   "cell_type": "code",
   "execution_count": 228,
   "metadata": {},
   "outputs": [
    {
     "data": {
      "text/plain": [
       "5"
      ]
     },
     "execution_count": 228,
     "metadata": {},
     "output_type": "execute_result"
    }
   ],
   "source": [
    "len(item['assets'])"
   ]
  },
  {
   "cell_type": "code",
   "execution_count": 229,
   "metadata": {},
   "outputs": [
    {
     "name": "stdout",
     "output_type": "stream",
     "text": [
      "id\n",
      "num_sales\n",
      "background_color\n",
      "image_url\n",
      "image_preview_url\n",
      "image_thumbnail_url\n",
      "image_original_url\n",
      "animation_url\n",
      "animation_original_url\n",
      "name\n",
      "description\n",
      "external_link\n",
      "asset_contract\n",
      "permalink\n",
      "collection\n",
      "decimals\n",
      "token_metadata\n",
      "is_nsfw\n",
      "owner\n",
      "token_id\n"
     ]
    }
   ],
   "source": [
    "asset = item['assets'][4]\n",
    "\n",
    "for key, value in asset.items():\n",
    "    print(key)"
   ]
  },
  {
   "cell_type": "code",
   "execution_count": 231,
   "metadata": {},
   "outputs": [
    {
     "data": {
      "text/plain": [
       "{'address': '0x495f947276749ce646f68ac8c248420045cb7b5e',\n",
       " 'asset_contract_type': 'semi-fungible',\n",
       " 'created_date': '2020-12-02T17:40:53.232025',\n",
       " 'name': 'OpenSea Collection',\n",
       " 'nft_version': None,\n",
       " 'opensea_version': '2.0.0',\n",
       " 'owner': 102384,\n",
       " 'schema_name': 'ERC1155',\n",
       " 'symbol': 'OPENSTORE',\n",
       " 'total_supply': None,\n",
       " 'description': '',\n",
       " 'external_link': None,\n",
       " 'image_url': None,\n",
       " 'default_to_fiat': False,\n",
       " 'dev_buyer_fee_basis_points': 0,\n",
       " 'dev_seller_fee_basis_points': 0,\n",
       " 'only_proxied_transfers': False,\n",
       " 'opensea_buyer_fee_basis_points': 0,\n",
       " 'opensea_seller_fee_basis_points': 250,\n",
       " 'buyer_fee_basis_points': 0,\n",
       " 'seller_fee_basis_points': 250,\n",
       " 'payout_address': None}"
      ]
     },
     "execution_count": 231,
     "metadata": {},
     "output_type": "execute_result"
    }
   ],
   "source": [
    "asset['asset_contract']\n",
    "\n",
    "# Smart Contract\n",
    "\n",
    "# NFT 표준: 표준을 통해 NFT 개발자는 자산이 어떤 방식으로 동작하고 어떻게 자산의 기본 기능과 상호 작용할 것인지 명확히 이해하고 이를 보장할 수 있습니다.\n",
    "# ERC1155 (semi-fungible)\n",
    "# \n"
   ]
  },
  {
   "cell_type": "code",
   "execution_count": null,
   "metadata": {},
   "outputs": [
    {
     "data": {
      "text/plain": [
       "{'banner_image_url': 'https://lh3.googleusercontent.com/DmVqMcSi8LemLeiEuvKg3-t2jcCClMmXo-oDIIQaOT7mWTci5ss0TyZozvi33PpvVf4gF1D0mijL1gfhnZyfY6XNFDFRM5VXeP0vzQ=s2500',\n",
       " 'chat_url': None,\n",
       " 'created_date': '2021-10-26T13:59:25.079567',\n",
       " 'default_to_fiat': False,\n",
       " 'description': '100 unique characters on the Ethereum blockchain released bit by bit.\\nThe Earth has been attacked and only survived 100 unique people who were doing something specific at that time, they were... pooping! \\n[thepoopstars.com](https://www.thepoopstars.com/)',\n",
       " 'dev_buyer_fee_basis_points': '0',\n",
       " 'dev_seller_fee_basis_points': '1000',\n",
       " 'discord_url': 'https://discord.gg/MXNKMXShWb',\n",
       " 'display_data': {'card_display_style': 'contain'},\n",
       " 'external_url': 'https://www.thepoopstars.com',\n",
       " 'featured': False,\n",
       " 'featured_image_url': 'https://lh3.googleusercontent.com/-7VGv_Ib6TKKOXmiA6TpnYg6IvsFkdj8Jtw1XMN7XUU5jWhJj3vxmzzBDGP4JVxncxNtFPoNep6bnDmNn9xyV_gEpqik-CZ9MQHKtWo=s300',\n",
       " 'hidden': False,\n",
       " 'safelist_request_status': 'not_requested',\n",
       " 'image_url': 'https://lh3.googleusercontent.com/j-w0hrO9I9G4cDHGRyw2fdR6c25TyzgVopd1ociyFp-D8WbiNOcjAVB7x1LyjnkIhN7HAbHFqWID0UT05Wkm96tdl3IQmtiP2z1Pn2o=s120',\n",
       " 'is_subject_to_whitelist': False,\n",
       " 'large_image_url': 'https://lh3.googleusercontent.com/-7VGv_Ib6TKKOXmiA6TpnYg6IvsFkdj8Jtw1XMN7XUU5jWhJj3vxmzzBDGP4JVxncxNtFPoNep6bnDmNn9xyV_gEpqik-CZ9MQHKtWo=s300',\n",
       " 'medium_username': None,\n",
       " 'name': 'PoopStars',\n",
       " 'only_proxied_transfers': False,\n",
       " 'opensea_buyer_fee_basis_points': '0',\n",
       " 'opensea_seller_fee_basis_points': '250',\n",
       " 'payout_address': '0xa590870e16288831ce9ebcea873396b37bc7565d',\n",
       " 'require_email': False,\n",
       " 'short_description': None,\n",
       " 'slug': 'thepoopstars',\n",
       " 'telegram_url': None,\n",
       " 'twitter_username': 'Poop_Stars',\n",
       " 'instagram_username': None,\n",
       " 'wiki_url': None,\n",
       " 'is_nsfw': False}"
      ]
     },
     "execution_count": 192,
     "metadata": {},
     "output_type": "execute_result"
    }
   ],
   "source": [
    "asset['collection']"
   ]
  },
  {
   "cell_type": "code",
   "execution_count": null,
   "metadata": {},
   "outputs": [
    {
     "data": {
      "text/plain": [
       "{'user': {'username': 'NullAddress'},\n",
       " 'profile_img_url': 'https://storage.googleapis.com/opensea-static/opensea-profile/1.png',\n",
       " 'address': '0x0000000000000000000000000000000000000000',\n",
       " 'config': ''}"
      ]
     },
     "execution_count": 193,
     "metadata": {},
     "output_type": "execute_result"
    }
   ],
   "source": [
    "asset['owner']\n"
   ]
  },
  {
   "cell_type": "markdown",
   "metadata": {},
   "source": [
    "## asset_contract"
   ]
  },
  {
   "cell_type": "code",
   "execution_count": null,
   "metadata": {},
   "outputs": [
    {
     "name": "stdout",
     "output_type": "stream",
     "text": [
      "collection\n",
      "address\n",
      "asset_contract_type\n",
      "created_date\n",
      "name\n",
      "nft_version\n",
      "opensea_version\n",
      "owner\n",
      "schema_name\n",
      "symbol\n",
      "total_supply\n",
      "description\n",
      "external_link\n",
      "image_url\n",
      "default_to_fiat\n",
      "dev_buyer_fee_basis_points\n",
      "dev_seller_fee_basis_points\n",
      "only_proxied_transfers\n",
      "opensea_buyer_fee_basis_points\n",
      "opensea_seller_fee_basis_points\n",
      "buyer_fee_basis_points\n",
      "seller_fee_basis_points\n",
      "payout_address\n"
     ]
    }
   ],
   "source": [
    "for key, value in item['asset_contract'].items():\n",
    "    print(key)\n"
   ]
  },
  {
   "cell_type": "markdown",
   "metadata": {},
   "source": [
    "## sell_orders"
   ]
  },
  {
   "cell_type": "code",
   "execution_count": null,
   "metadata": {},
   "outputs": [
    {
     "data": {
      "text/plain": [
       "1"
      ]
     },
     "execution_count": 195,
     "metadata": {},
     "output_type": "execute_result"
    }
   ],
   "source": [
    "len(item['sell_orders'])\n"
   ]
  },
  {
   "cell_type": "code",
   "execution_count": null,
   "metadata": {},
   "outputs": [
    {
     "name": "stdout",
     "output_type": "stream",
     "text": [
      "created_date\n",
      "closing_date\n",
      "closing_extendable\n",
      "expiration_time\n",
      "listing_time\n",
      "order_hash\n",
      "metadata\n",
      "exchange\n",
      "maker\n",
      "taker\n",
      "current_price\n",
      "current_bounty\n",
      "bounty_multiple\n",
      "maker_relayer_fee\n",
      "taker_relayer_fee\n",
      "maker_protocol_fee\n",
      "taker_protocol_fee\n",
      "maker_referrer_fee\n",
      "fee_recipient\n",
      "fee_method\n",
      "side\n",
      "sale_kind\n",
      "target\n",
      "how_to_call\n",
      "calldata\n",
      "replacement_pattern\n",
      "static_target\n",
      "static_extradata\n",
      "payment_token\n",
      "payment_token_contract\n",
      "base_price\n",
      "extra\n",
      "quantity\n",
      "salt\n",
      "v\n",
      "r\n",
      "s\n",
      "approved_on_chain\n",
      "cancelled\n",
      "finalized\n",
      "marked_invalid\n",
      "prefixed_hash\n"
     ]
    }
   ],
   "source": [
    "sell_order = item['sell_orders'][0]\n",
    "\n",
    "for key, value in sell_order.items():\n",
    "    print(key)\n"
   ]
  },
  {
   "cell_type": "code",
   "execution_count": 219,
   "metadata": {},
   "outputs": [
    {
     "data": {
      "text/plain": [
       "'0'"
      ]
     },
     "execution_count": 219,
     "metadata": {},
     "output_type": "execute_result"
    }
   ],
   "source": [
    "sell_order['maker_protocol_fee']\n"
   ]
  },
  {
   "cell_type": "code",
   "execution_count": null,
   "metadata": {},
   "outputs": [],
   "source": []
  }
 ],
 "metadata": {
  "interpreter": {
   "hash": "fd021327e6a65afa08e25b6a425ed94a561ed4b59828689c0210894ad77594e1"
  },
  "kernelspec": {
   "display_name": "Python 3.9.7 ('base')",
   "language": "python",
   "name": "python3"
  },
  "language_info": {
   "codemirror_mode": {
    "name": "ipython",
    "version": 3
   },
   "file_extension": ".py",
   "mimetype": "text/x-python",
   "name": "python",
   "nbconvert_exporter": "python",
   "pygments_lexer": "ipython3",
   "version": "3.9.7"
  },
  "orig_nbformat": 4
 },
 "nbformat": 4,
 "nbformat_minor": 2
}
