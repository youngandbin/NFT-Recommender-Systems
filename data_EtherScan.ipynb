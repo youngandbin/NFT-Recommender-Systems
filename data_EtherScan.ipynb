{
 "cells": [
  {
   "cell_type": "markdown",
   "metadata": {},
   "source": [
    "# import package"
   ]
  },
  {
   "cell_type": "code",
   "execution_count": 1,
   "metadata": {},
   "outputs": [],
   "source": [
    "from etherscan import Etherscan\n",
    "eth = Etherscan('1HZ4Z4Z4SJ61GX2X6WUSS9D8GKJJUPU2FJ') # API key"
   ]
  },
  {
   "cell_type": "code",
   "execution_count": 2,
   "metadata": {},
   "outputs": [],
   "source": [
    "# Meebits\n",
    "# 0x7Bd29408f11D2bFC23c34f18275bBf23bB716Bc7\n",
    "\n",
    "# BAYC\n",
    "# 0xBC4CA0EdA7647A8aB7C2061c2E118A18a936f13D"
   ]
  },
  {
   "cell_type": "markdown",
   "metadata": {},
   "source": [
    "# Accounts"
   ]
  },
  {
   "cell_type": "code",
   "execution_count": 3,
   "metadata": {},
   "outputs": [
    {
     "data": {
      "text/plain": [
       "'0'"
      ]
     },
     "execution_count": 3,
     "metadata": {},
     "output_type": "execute_result"
    }
   ],
   "source": [
    "eth.get_eth_balance(\n",
    "    address='0xBC4CA0EdA7647A8aB7C2061c2E118A18a936f13D')  # BAYC"
   ]
  },
  {
   "cell_type": "markdown",
   "metadata": {},
   "source": [
    "## transactions"
   ]
  },
  {
   "cell_type": "code",
   "execution_count": 4,
   "metadata": {},
   "outputs": [],
   "source": [
    "for tx in eth.get_normal_txs_by_address(\n",
    "    address='0xBC4CA0EdA7647A8aB7C2061c2E118A18a936f13D', startblock=0, endblock=99999999, sort='des'):\n",
    "    #tempp = tx\n",
    "    if tx['hash'] == '0x99542509b0a9927426ffc99397df508d440a70df048185fefaa7229953c0e18c':\n",
    "        print('found!')\n",
    "        temp = tx\n",
    "        break"
   ]
  },
  {
   "cell_type": "code",
   "execution_count": 41,
   "metadata": {},
   "outputs": [
    {
     "data": {
      "text/plain": [
       "{'blockNumber': '12293406',\n",
       " 'timeStamp': '1619139782',\n",
       " 'hash': '0xb67412c806f58f8de0ee2c7e6817ba2b1dc83c2b247f95a64fafdff10b6b8630',\n",
       " 'nonce': '7',\n",
       " 'blockHash': '0xdb3752ab80c2909ffe65c7cb181848ad3914cac667622e0ae89923b0ed7bdfd8',\n",
       " 'transactionIndex': '175',\n",
       " 'from': '0xaba7161a7fb69c88e16ed9f455ce62b791ee4d03',\n",
       " 'to': '0xbc4ca0eda7647a8ab7c2061c2e118a18a936f13d',\n",
       " 'value': '0',\n",
       " 'gas': '171576',\n",
       " 'gasPrice': '76100100000',\n",
       " 'isError': '0',\n",
       " 'txreceipt_status': '1',\n",
       " 'input': '0x55f804b30000000000000000000000000000000000000000000000000000000000000020000000000000000000000000000000000000000000000000000000000000004168747470733a2f2f75732d63656e7472616c312d626179632d6d657461646174612e636c6f756466756e6374696f6e732e6e65742f6170692f746f6b656e732f2000000000000000000000000000000000000000000000000000000000000000',\n",
       " 'contractAddress': '',\n",
       " 'cumulativeGasUsed': '10938523',\n",
       " 'gasUsed': '114384',\n",
       " 'confirmations': '2459813'}"
      ]
     },
     "execution_count": 41,
     "metadata": {},
     "output_type": "execute_result"
    }
   ],
   "source": [
    "eth.get_normal_txs_by_address(address='0xBC4CA0EdA7647A8aB7C2061c2E118A18a936f13D',\n",
    "                              startblock=0, endblock=99999999, sort='des')[2]"
   ]
  },
  {
   "cell_type": "code",
   "execution_count": 38,
   "metadata": {},
   "outputs": [
    {
     "data": {
      "text/plain": [
       "{'blockNumber': '12319428',\n",
       " 'timeStamp': '1619486581',\n",
       " 'hash': '0x4f649094fbaa6e5da7da6bd221fad22b2a8beb5f6c45d49ba8e4b2222672dc1f',\n",
       " 'from': '0xbc4ca0eda7647a8ab7c2061c2e118a18a936f13d',\n",
       " 'to': '0xaba7161a7fb69c88e16ed9f455ce62b791ee4d03',\n",
       " 'value': '14000000000000000000',\n",
       " 'contractAddress': '',\n",
       " 'input': '',\n",
       " 'type': 'call',\n",
       " 'gas': '2300',\n",
       " 'gasUsed': '0',\n",
       " 'traceId': '0',\n",
       " 'isError': '0',\n",
       " 'errCode': ''}"
      ]
     },
     "execution_count": 38,
     "metadata": {},
     "output_type": "execute_result"
    }
   ],
   "source": [
    "eth.get_internal_txs_by_address(address='0xBC4CA0EdA7647A8aB7C2061c2E118A18a936f13D',\n",
    "                                startblock=0, endblock=99999999, sort='des')[0]\n"
   ]
  },
  {
   "cell_type": "code",
   "execution_count": 21,
   "metadata": {},
   "outputs": [
    {
     "data": {
      "text/plain": [
       "{'blockNumber': '12363490',\n",
       " 'timeStamp': '1620074855',\n",
       " 'from': '0x7bd29408f11d2bfc23c34f18275bbf23bb716bc7',\n",
       " 'to': '0x27073cd0d709d89c391af9767595d91c78ed43a7',\n",
       " 'value': '318287037037037',\n",
       " 'contractAddress': '',\n",
       " 'input': '',\n",
       " 'type': 'call',\n",
       " 'gas': '2300',\n",
       " 'gasUsed': '0',\n",
       " 'isError': '0',\n",
       " 'errCode': ''}"
      ]
     },
     "execution_count": 21,
     "metadata": {},
     "output_type": "execute_result"
    }
   ],
   "source": [
    "eth.get_internal_txs_by_txhash('0xe61b90913b20621ed218268de371dff92b5440e7b4533395d4f1ae2a56ff385d')[0]"
   ]
  },
  {
   "cell_type": "markdown",
   "metadata": {},
   "source": [
    "## token transfer events"
   ]
  },
  {
   "cell_type": "code",
   "execution_count": 16,
   "metadata": {},
   "outputs": [
    {
     "data": {
      "text/plain": [
       "{'blockNumber': '13668024',\n",
       " 'timeStamp': '1637631573',\n",
       " 'hash': '0x1e60c72a7c2fd3e9c26291375f1f46f9dc8831963b978abed63aa2fcd50b85c7',\n",
       " 'nonce': '7',\n",
       " 'blockHash': '0x4105a6b83bfebc3d9a7f4526865e795788efd402d05c1e03cbd45885931b7d23',\n",
       " 'from': '0x5b0190b756fcd4dc4e7cad74a2f2e111e82530cf',\n",
       " 'contractAddress': '0xc02aaa39b223fe8d0a0e5c4f27ead9083c756cc2',\n",
       " 'to': '0xbc4ca0eda7647a8ab7c2061c2e118a18a936f13d',\n",
       " 'value': '5000000000000000',\n",
       " 'tokenName': 'Wrapped Ether',\n",
       " 'tokenSymbol': 'WETH',\n",
       " 'tokenDecimal': '18',\n",
       " 'transactionIndex': '396',\n",
       " 'gas': '77391',\n",
       " 'gasPrice': '119149250252',\n",
       " 'gasUsed': '51594',\n",
       " 'cumulativeGasUsed': '29051175',\n",
       " 'input': 'deprecated',\n",
       " 'confirmations': '1081074'}"
      ]
     },
     "execution_count": 16,
     "metadata": {},
     "output_type": "execute_result"
    }
   ],
   "source": [
    "eth.get_erc20_token_transfer_events_by_address(address='0xBC4CA0EdA7647A8aB7C2061c2E118A18a936f13D',\n",
    "                                                startblock=0, endblock=99999999999, sort='asc')[0]\n"
   ]
  },
  {
   "cell_type": "code",
   "execution_count": 17,
   "metadata": {},
   "outputs": [
    {
     "data": {
      "text/plain": [
       "{'blockNumber': '13318505',\n",
       " 'timeStamp': '1632888874',\n",
       " 'hash': '0xf87fa5b58a243a578d00b5375b803e1d405a12c5db80f54ac3d088b6a3f073fc',\n",
       " 'nonce': '42',\n",
       " 'blockHash': '0xeec52ef64783aa7753d78b0c12f5e54fffff99de34145d8eef47af2c5e245674',\n",
       " 'from': '0x9ad14abf4986f635d521033bedd8a8ff61801a41',\n",
       " 'contractAddress': '0x3e2895d0e6e303ac115dd424fcad52187907871a',\n",
       " 'to': '0xbc4ca0eda7647a8ab7c2061c2e118a18a936f13d',\n",
       " 'tokenID': '2705',\n",
       " 'tokenName': 'MonsterRehab',\n",
       " 'tokenSymbol': 'MONSTER',\n",
       " 'tokenDecimal': '0',\n",
       " 'transactionIndex': '145',\n",
       " 'gas': '123990',\n",
       " 'gasPrice': '51309093031',\n",
       " 'gasUsed': '114390',\n",
       " 'cumulativeGasUsed': '18188770',\n",
       " 'input': 'deprecated',\n",
       " 'confirmations': '1430592'}"
      ]
     },
     "execution_count": 17,
     "metadata": {},
     "output_type": "execute_result"
    }
   ],
   "source": [
    "eth.get_erc721_token_transfer_events_by_address(address='0xBC4CA0EdA7647A8aB7C2061c2E118A18a936f13D',\n",
    "                                               startblock=0, endblock=99999999999, sort='asc')[0]\n"
   ]
  },
  {
   "cell_type": "code",
   "execution_count": 20,
   "metadata": {},
   "outputs": [
    {
     "ename": "AssertionError",
     "evalue": "[] -- No transactions found",
     "output_type": "error",
     "traceback": [
      "\u001b[1;31m---------------------------------------------------------------------------\u001b[0m",
      "\u001b[1;31mAssertionError\u001b[0m                            Traceback (most recent call last)",
      "\u001b[1;32mc:\\Users\\YOUNGBIN\\Documents\\Jupyter Lab\\NFT\\data_EtherScan.ipynb Cell 13'\u001b[0m in \u001b[0;36m<cell line: 1>\u001b[1;34m()\u001b[0m\n\u001b[1;32m----> <a href='vscode-notebook-cell:/c%3A/Users/YOUNGBIN/Documents/Jupyter%20Lab/NFT/data_EtherScan.ipynb#ch0000012?line=0'>1</a>\u001b[0m eth\u001b[39m.\u001b[39;49mget_mined_blocks_by_address(address\u001b[39m=\u001b[39;49m\u001b[39m'\u001b[39;49m\u001b[39m0xBC4CA0EdA7647A8aB7C2061c2E118A18a936f13D\u001b[39;49m\u001b[39m'\u001b[39;49m)[\u001b[39m0\u001b[39m]\n",
      "File \u001b[1;32mc:\\Users\\YOUNGBIN\\Documents\\Jupyter Lab\\Bithumb\\lib\\site-packages\\etherscan\\etherscan.py:33\u001b[0m, in \u001b[0;36mEtherscan.__run.<locals>.wrapper\u001b[1;34m(*args, **kwargs)\u001b[0m\n\u001b[0;32m     <a href='file:///c%3A/Users/YOUNGBIN/Documents/Jupyter%20Lab/Bithumb/lib/site-packages/etherscan/etherscan.py?line=25'>26</a>\u001b[0m url \u001b[39m=\u001b[39m (\n\u001b[0;32m     <a href='file:///c%3A/Users/YOUNGBIN/Documents/Jupyter%20Lab/Bithumb/lib/site-packages/etherscan/etherscan.py?line=26'>27</a>\u001b[0m     \u001b[39mf\u001b[39m\u001b[39m\"\u001b[39m\u001b[39m{\u001b[39;00mfields\u001b[39m.\u001b[39mPREFIX\u001b[39m.\u001b[39mformat(net\u001b[39m.\u001b[39mlower())\u001b[39m.\u001b[39mreplace(\u001b[39m'\u001b[39m\u001b[39m-main\u001b[39m\u001b[39m'\u001b[39m,\u001b[39m'\u001b[39m\u001b[39m'\u001b[39m)\u001b[39m}\u001b[39;00m\u001b[39m\"\u001b[39m\n\u001b[0;32m     <a href='file:///c%3A/Users/YOUNGBIN/Documents/Jupyter%20Lab/Bithumb/lib/site-packages/etherscan/etherscan.py?line=27'>28</a>\u001b[0m     \u001b[39mf\u001b[39m\u001b[39m\"\u001b[39m\u001b[39m{\u001b[39;00mfunc(\u001b[39m*\u001b[39margs, \u001b[39m*\u001b[39m\u001b[39m*\u001b[39mkwargs)\u001b[39m}\u001b[39;00m\u001b[39m\"\u001b[39m\n\u001b[0;32m     <a href='file:///c%3A/Users/YOUNGBIN/Documents/Jupyter%20Lab/Bithumb/lib/site-packages/etherscan/etherscan.py?line=28'>29</a>\u001b[0m     \u001b[39mf\u001b[39m\u001b[39m\"\u001b[39m\u001b[39m{\u001b[39;00mfields\u001b[39m.\u001b[39mAPI_KEY\u001b[39m}\u001b[39;00m\u001b[39m\"\u001b[39m\n\u001b[0;32m     <a href='file:///c%3A/Users/YOUNGBIN/Documents/Jupyter%20Lab/Bithumb/lib/site-packages/etherscan/etherscan.py?line=29'>30</a>\u001b[0m     \u001b[39mf\u001b[39m\u001b[39m\"\u001b[39m\u001b[39m{\u001b[39;00mapi_key\u001b[39m}\u001b[39;00m\u001b[39m\"\u001b[39m\n\u001b[0;32m     <a href='file:///c%3A/Users/YOUNGBIN/Documents/Jupyter%20Lab/Bithumb/lib/site-packages/etherscan/etherscan.py?line=30'>31</a>\u001b[0m )\n\u001b[0;32m     <a href='file:///c%3A/Users/YOUNGBIN/Documents/Jupyter%20Lab/Bithumb/lib/site-packages/etherscan/etherscan.py?line=31'>32</a>\u001b[0m r \u001b[39m=\u001b[39m requests\u001b[39m.\u001b[39mget(url, headers\u001b[39m=\u001b[39m{\u001b[39m\"\u001b[39m\u001b[39mUser-Agent\u001b[39m\u001b[39m\"\u001b[39m: \u001b[39m\"\u001b[39m\u001b[39m\"\u001b[39m})\n\u001b[1;32m---> <a href='file:///c%3A/Users/YOUNGBIN/Documents/Jupyter%20Lab/Bithumb/lib/site-packages/etherscan/etherscan.py?line=32'>33</a>\u001b[0m \u001b[39mreturn\u001b[39;00m parser\u001b[39m.\u001b[39;49mparse(r)\n",
      "File \u001b[1;32mc:\\Users\\YOUNGBIN\\Documents\\Jupyter Lab\\Bithumb\\lib\\site-packages\\etherscan\\utils\\parsing.py:12\u001b[0m, in \u001b[0;36mResponseParser.parse\u001b[1;34m(response)\u001b[0m\n\u001b[0;32m     <a href='file:///c%3A/Users/YOUNGBIN/Documents/Jupyter%20Lab/Bithumb/lib/site-packages/etherscan/utils/parsing.py?line=9'>10</a>\u001b[0m     status \u001b[39m=\u001b[39m \u001b[39mbool\u001b[39m(\u001b[39mint\u001b[39m(content[\u001b[39m\"\u001b[39m\u001b[39mstatus\u001b[39m\u001b[39m\"\u001b[39m]))\n\u001b[0;32m     <a href='file:///c%3A/Users/YOUNGBIN/Documents/Jupyter%20Lab/Bithumb/lib/site-packages/etherscan/utils/parsing.py?line=10'>11</a>\u001b[0m     message \u001b[39m=\u001b[39m content[\u001b[39m\"\u001b[39m\u001b[39mmessage\u001b[39m\u001b[39m\"\u001b[39m]\n\u001b[1;32m---> <a href='file:///c%3A/Users/YOUNGBIN/Documents/Jupyter%20Lab/Bithumb/lib/site-packages/etherscan/utils/parsing.py?line=11'>12</a>\u001b[0m     \u001b[39massert\u001b[39;00m status, \u001b[39mf\u001b[39m\u001b[39m\"\u001b[39m\u001b[39m{\u001b[39;00mresult\u001b[39m}\u001b[39;00m\u001b[39m -- \u001b[39m\u001b[39m{\u001b[39;00mmessage\u001b[39m}\u001b[39;00m\u001b[39m\"\u001b[39m\n\u001b[0;32m     <a href='file:///c%3A/Users/YOUNGBIN/Documents/Jupyter%20Lab/Bithumb/lib/site-packages/etherscan/utils/parsing.py?line=12'>13</a>\u001b[0m \u001b[39melse\u001b[39;00m:\n\u001b[0;32m     <a href='file:///c%3A/Users/YOUNGBIN/Documents/Jupyter%20Lab/Bithumb/lib/site-packages/etherscan/utils/parsing.py?line=13'>14</a>\u001b[0m     \u001b[39m# GETH or Parity proxy msg format\u001b[39;00m\n\u001b[0;32m     <a href='file:///c%3A/Users/YOUNGBIN/Documents/Jupyter%20Lab/Bithumb/lib/site-packages/etherscan/utils/parsing.py?line=14'>15</a>\u001b[0m     \u001b[39m# TODO: see if we need those values\u001b[39;00m\n\u001b[0;32m     <a href='file:///c%3A/Users/YOUNGBIN/Documents/Jupyter%20Lab/Bithumb/lib/site-packages/etherscan/utils/parsing.py?line=15'>16</a>\u001b[0m     jsonrpc \u001b[39m=\u001b[39m content[\u001b[39m\"\u001b[39m\u001b[39mjsonrpc\u001b[39m\u001b[39m\"\u001b[39m]\n",
      "\u001b[1;31mAssertionError\u001b[0m: [] -- No transactions found"
     ]
    }
   ],
   "source": [
    "eth.get_mined_blocks_by_address(address='0xBC4CA0EdA7647A8aB7C2061c2E118A18a936f13D')[0]\n"
   ]
  },
  {
   "cell_type": "code",
   "execution_count": null,
   "metadata": {},
   "outputs": [],
   "source": []
  }
 ],
 "metadata": {
  "interpreter": {
   "hash": "caa717f3a63afadb184cff6cf0b0c61cb9180f3e1e79e413fc3281835fa6f4ff"
  },
  "kernelspec": {
   "display_name": "Python 3.8.12 ('Bithumb': venv)",
   "language": "python",
   "name": "python3"
  },
  "language_info": {
   "codemirror_mode": {
    "name": "ipython",
    "version": 3
   },
   "file_extension": ".py",
   "mimetype": "text/x-python",
   "name": "python",
   "nbconvert_exporter": "python",
   "pygments_lexer": "ipython3",
   "version": "3.8.12"
  },
  "orig_nbformat": 4
 },
 "nbformat": 4,
 "nbformat_minor": 2
}
