{
 "cells": [
  {
   "cell_type": "markdown",
   "metadata": {},
   "source": [
    "# import package"
   ]
  },
  {
   "cell_type": "code",
   "execution_count": 1,
   "metadata": {},
   "outputs": [],
   "source": [
    "from etherscan import Etherscan\n",
    "eth = Etherscan('1HZ4Z4Z4SJ61GX2X6WUSS9D8GKJJUPU2FJ') # API key"
   ]
  },
  {
   "cell_type": "code",
   "execution_count": 2,
   "metadata": {},
   "outputs": [],
   "source": [
    "# Meebits\n",
    "# 0x7Bd29408f11D2bFC23c34f18275bBf23bB716Bc7\n",
    "\n",
    "# BAYC\n",
    "# 0xBC4CA0EdA7647A8aB7C2061c2E118A18a936f13D"
   ]
  },
  {
   "cell_type": "markdown",
   "metadata": {},
   "source": [
    "# Accounts"
   ]
  },
  {
   "cell_type": "code",
   "execution_count": 3,
   "metadata": {},
   "outputs": [],
   "source": [
    "# get_eth_balance\n",
    "# get_eth_balance_multiple\n",
    "# get_normal_txs_by_address\n",
    "# get_normal_txs_by_address_paginated\n",
    "# get_internal_txs_by_address\n",
    "# get_internal_txs_by_address_paginated\n",
    "# get_internal_txs_by_txhash\n",
    "# get_internal_txs_by_block_range_paginated\n",
    "# get_erc20_token_transfer_events_by_address\n",
    "# get_erc20_token_transfer_events_by_contract_address_paginated\n",
    "# get_erc20_token_transfer_events_by_address_and_contract_paginated\n",
    "# get_erc721_token_transfer_events_by_address\n",
    "# get_erc721_token_transfer_events_by_contract_address_paginated\n",
    "# get_erc721_token_transfer_events_by_address_and_contract_paginated\n",
    "# get_mined_blocks_by_address\n",
    "# get_mined_blocks_by_address_paginated"
   ]
  },
  {
   "cell_type": "code",
   "execution_count": 4,
   "metadata": {},
   "outputs": [
    {
     "data": {
      "text/plain": [
       "'0'"
      ]
     },
     "execution_count": 4,
     "metadata": {},
     "output_type": "execute_result"
    }
   ],
   "source": [
    "eth.get_eth_balance(\n",
    "    address='0xBC4CA0EdA7647A8aB7C2061c2E118A18a936f13D')  # BAYC"
   ]
  },
  {
   "cell_type": "markdown",
   "metadata": {},
   "source": [
    "## normal transactions"
   ]
  },
  {
   "cell_type": "code",
   "execution_count": 19,
   "metadata": {},
   "outputs": [
    {
     "data": {
      "text/plain": [
       "10000"
      ]
     },
     "execution_count": 19,
     "metadata": {},
     "output_type": "execute_result"
    }
   ],
   "source": [
    "normal_txs = eth.get_normal_txs_by_address(address='0xBC4CA0EdA7647A8aB7C2061c2E118A18a936f13D',\n",
    "                                           startblock=12287507, endblock=14790038, sort='desc') # sort = asc, desc\n",
    "len(normal_txs)  # block: 1만개까지만 존재"
   ]
  },
  {
   "cell_type": "code",
   "execution_count": 22,
   "metadata": {},
   "outputs": [
    {
     "data": {
      "text/plain": [
       "{'blockNumber': '14790038',\n",
       " 'timeStamp': '1652756437',\n",
       " 'hash': '0xad1b60705d0dcfceab9d09c1321d424245f1ebfa9a5c0380a77dd0928a8e1031',\n",
       " 'nonce': '121',\n",
       " 'blockHash': '0x72132a5fabf8af031b9d9af4b2b8e69fa03138c9576fd9a0bdb3a392568f82d4',\n",
       " 'transactionIndex': '210',\n",
       " 'from': '0x0232d1083e970f0c78f56202b9a666b526fa379f',\n",
       " 'to': '0xbc4ca0eda7647a8ab7c2061c2e118a18a936f13d',\n",
       " 'value': '0',\n",
       " 'gas': '43752',\n",
       " 'gasPrice': '36310559148',\n",
       " 'isError': '0',\n",
       " 'txreceipt_status': '1',\n",
       " 'input': '0xa22cb465000000000000000000000000187e8e5c70457c756a5779aeb2227ef098bca7760000000000000000000000000000000000000000000000000000000000000000',\n",
       " 'contractAddress': '',\n",
       " 'cumulativeGasUsed': '9973057',\n",
       " 'gasUsed': '24368',\n",
       " 'confirmations': '229'}"
      ]
     },
     "execution_count": 22,
     "metadata": {},
     "output_type": "execute_result"
    }
   ],
   "source": [
    "normal_txs[0] "
   ]
  },
  {
   "cell_type": "code",
   "execution_count": null,
   "metadata": {},
   "outputs": [],
   "source": []
  },
  {
   "cell_type": "code",
   "execution_count": 21,
   "metadata": {},
   "outputs": [
    {
     "data": {
      "text/plain": [
       "{'blockNumber': '12363490',\n",
       " 'timeStamp': '1620074855',\n",
       " 'from': '0x7bd29408f11d2bfc23c34f18275bbf23bb716bc7',\n",
       " 'to': '0x27073cd0d709d89c391af9767595d91c78ed43a7',\n",
       " 'value': '318287037037037',\n",
       " 'contractAddress': '',\n",
       " 'input': '',\n",
       " 'type': 'call',\n",
       " 'gas': '2300',\n",
       " 'gasUsed': '0',\n",
       " 'isError': '0',\n",
       " 'errCode': ''}"
      ]
     },
     "execution_count": 21,
     "metadata": {},
     "output_type": "execute_result"
    }
   ],
   "source": [
    "eth.get_internal_txs_by_txhash('0xe61b90913b20621ed218268de371dff92b5440e7b4533395d4f1ae2a56ff385d')[0]"
   ]
  },
  {
   "cell_type": "code",
   "execution_count": 6,
   "metadata": {},
   "outputs": [
    {
     "ename": "AssertionError",
     "evalue": "None -- Query Timeout occured. Please select a smaller result dataset",
     "output_type": "error",
     "traceback": [
      "\u001b[1;31m---------------------------------------------------------------------------\u001b[0m",
      "\u001b[1;31mAssertionError\u001b[0m                            Traceback (most recent call last)",
      "\u001b[1;32mc:\\Users\\YOUNGBIN\\Documents\\Jupyter Lab\\NFT-Recommender-Systems\\data_EtherScan.ipynb Cell 7'\u001b[0m in \u001b[0;36m<cell line: 1>\u001b[1;34m()\u001b[0m\n\u001b[1;32m----> <a href='vscode-notebook-cell:/c%3A/Users/YOUNGBIN/Documents/Jupyter%20Lab/NFT-Recommender-Systems/data_EtherScan.ipynb#ch0000006?line=0'>1</a>\u001b[0m \u001b[39mfor\u001b[39;00m tx \u001b[39min\u001b[39;00m eth\u001b[39m.\u001b[39;49mget_normal_txs_by_address(\n\u001b[0;32m      <a href='vscode-notebook-cell:/c%3A/Users/YOUNGBIN/Documents/Jupyter%20Lab/NFT-Recommender-Systems/data_EtherScan.ipynb#ch0000006?line=1'>2</a>\u001b[0m     address\u001b[39m=\u001b[39;49m\u001b[39m'\u001b[39;49m\u001b[39m0xBC4CA0EdA7647A8aB7C2061c2E118A18a936f13D\u001b[39;49m\u001b[39m'\u001b[39;49m, startblock\u001b[39m=\u001b[39;49m\u001b[39m0\u001b[39;49m, endblock\u001b[39m=\u001b[39;49m\u001b[39m99999999\u001b[39;49m, sort\u001b[39m=\u001b[39;49m\u001b[39m'\u001b[39;49m\u001b[39mdes\u001b[39;49m\u001b[39m'\u001b[39;49m):\n\u001b[0;32m      <a href='vscode-notebook-cell:/c%3A/Users/YOUNGBIN/Documents/Jupyter%20Lab/NFT-Recommender-Systems/data_EtherScan.ipynb#ch0000006?line=2'>3</a>\u001b[0m     \u001b[39m#tempp = tx\u001b[39;00m\n\u001b[0;32m      <a href='vscode-notebook-cell:/c%3A/Users/YOUNGBIN/Documents/Jupyter%20Lab/NFT-Recommender-Systems/data_EtherScan.ipynb#ch0000006?line=3'>4</a>\u001b[0m     \u001b[39mif\u001b[39;00m tx[\u001b[39m'\u001b[39m\u001b[39mhash\u001b[39m\u001b[39m'\u001b[39m] \u001b[39m==\u001b[39m \u001b[39m'\u001b[39m\u001b[39m0x99542509b0a9927426ffc99397df508d440a70df048185fefaa7229953c0e18c\u001b[39m\u001b[39m'\u001b[39m:\n\u001b[0;32m      <a href='vscode-notebook-cell:/c%3A/Users/YOUNGBIN/Documents/Jupyter%20Lab/NFT-Recommender-Systems/data_EtherScan.ipynb#ch0000006?line=4'>5</a>\u001b[0m         \u001b[39mprint\u001b[39m(\u001b[39m'\u001b[39m\u001b[39mfound!\u001b[39m\u001b[39m'\u001b[39m)\n",
      "File \u001b[1;32mc:\\Users\\YOUNGBIN\\anaconda3\\envs\\Bithumb-NFT\\lib\\site-packages\\etherscan\\etherscan.py:33\u001b[0m, in \u001b[0;36mEtherscan.__run.<locals>.wrapper\u001b[1;34m(*args, **kwargs)\u001b[0m\n\u001b[0;32m     <a href='file:///c%3A/Users/YOUNGBIN/anaconda3/envs/Bithumb-NFT/lib/site-packages/etherscan/etherscan.py?line=25'>26</a>\u001b[0m url \u001b[39m=\u001b[39m (\n\u001b[0;32m     <a href='file:///c%3A/Users/YOUNGBIN/anaconda3/envs/Bithumb-NFT/lib/site-packages/etherscan/etherscan.py?line=26'>27</a>\u001b[0m     \u001b[39mf\u001b[39m\u001b[39m\"\u001b[39m\u001b[39m{\u001b[39;00mfields\u001b[39m.\u001b[39mPREFIX\u001b[39m.\u001b[39mformat(net\u001b[39m.\u001b[39mlower())\u001b[39m.\u001b[39mreplace(\u001b[39m'\u001b[39m\u001b[39m-main\u001b[39m\u001b[39m'\u001b[39m,\u001b[39m'\u001b[39m\u001b[39m'\u001b[39m)\u001b[39m}\u001b[39;00m\u001b[39m\"\u001b[39m\n\u001b[0;32m     <a href='file:///c%3A/Users/YOUNGBIN/anaconda3/envs/Bithumb-NFT/lib/site-packages/etherscan/etherscan.py?line=27'>28</a>\u001b[0m     \u001b[39mf\u001b[39m\u001b[39m\"\u001b[39m\u001b[39m{\u001b[39;00mfunc(\u001b[39m*\u001b[39margs, \u001b[39m*\u001b[39m\u001b[39m*\u001b[39mkwargs)\u001b[39m}\u001b[39;00m\u001b[39m\"\u001b[39m\n\u001b[0;32m     <a href='file:///c%3A/Users/YOUNGBIN/anaconda3/envs/Bithumb-NFT/lib/site-packages/etherscan/etherscan.py?line=28'>29</a>\u001b[0m     \u001b[39mf\u001b[39m\u001b[39m\"\u001b[39m\u001b[39m{\u001b[39;00mfields\u001b[39m.\u001b[39mAPI_KEY\u001b[39m}\u001b[39;00m\u001b[39m\"\u001b[39m\n\u001b[0;32m     <a href='file:///c%3A/Users/YOUNGBIN/anaconda3/envs/Bithumb-NFT/lib/site-packages/etherscan/etherscan.py?line=29'>30</a>\u001b[0m     \u001b[39mf\u001b[39m\u001b[39m\"\u001b[39m\u001b[39m{\u001b[39;00mapi_key\u001b[39m}\u001b[39;00m\u001b[39m\"\u001b[39m\n\u001b[0;32m     <a href='file:///c%3A/Users/YOUNGBIN/anaconda3/envs/Bithumb-NFT/lib/site-packages/etherscan/etherscan.py?line=30'>31</a>\u001b[0m )\n\u001b[0;32m     <a href='file:///c%3A/Users/YOUNGBIN/anaconda3/envs/Bithumb-NFT/lib/site-packages/etherscan/etherscan.py?line=31'>32</a>\u001b[0m r \u001b[39m=\u001b[39m requests\u001b[39m.\u001b[39mget(url, headers\u001b[39m=\u001b[39m{\u001b[39m\"\u001b[39m\u001b[39mUser-Agent\u001b[39m\u001b[39m\"\u001b[39m: \u001b[39m\"\u001b[39m\u001b[39m\"\u001b[39m})\n\u001b[1;32m---> <a href='file:///c%3A/Users/YOUNGBIN/anaconda3/envs/Bithumb-NFT/lib/site-packages/etherscan/etherscan.py?line=32'>33</a>\u001b[0m \u001b[39mreturn\u001b[39;00m parser\u001b[39m.\u001b[39;49mparse(r)\n",
      "File \u001b[1;32mc:\\Users\\YOUNGBIN\\anaconda3\\envs\\Bithumb-NFT\\lib\\site-packages\\etherscan\\utils\\parsing.py:12\u001b[0m, in \u001b[0;36mResponseParser.parse\u001b[1;34m(response)\u001b[0m\n\u001b[0;32m     <a href='file:///c%3A/Users/YOUNGBIN/anaconda3/envs/Bithumb-NFT/lib/site-packages/etherscan/utils/parsing.py?line=9'>10</a>\u001b[0m     status \u001b[39m=\u001b[39m \u001b[39mbool\u001b[39m(\u001b[39mint\u001b[39m(content[\u001b[39m\"\u001b[39m\u001b[39mstatus\u001b[39m\u001b[39m\"\u001b[39m]))\n\u001b[0;32m     <a href='file:///c%3A/Users/YOUNGBIN/anaconda3/envs/Bithumb-NFT/lib/site-packages/etherscan/utils/parsing.py?line=10'>11</a>\u001b[0m     message \u001b[39m=\u001b[39m content[\u001b[39m\"\u001b[39m\u001b[39mmessage\u001b[39m\u001b[39m\"\u001b[39m]\n\u001b[1;32m---> <a href='file:///c%3A/Users/YOUNGBIN/anaconda3/envs/Bithumb-NFT/lib/site-packages/etherscan/utils/parsing.py?line=11'>12</a>\u001b[0m     \u001b[39massert\u001b[39;00m status, \u001b[39mf\u001b[39m\u001b[39m\"\u001b[39m\u001b[39m{\u001b[39;00mresult\u001b[39m}\u001b[39;00m\u001b[39m -- \u001b[39m\u001b[39m{\u001b[39;00mmessage\u001b[39m}\u001b[39;00m\u001b[39m\"\u001b[39m\n\u001b[0;32m     <a href='file:///c%3A/Users/YOUNGBIN/anaconda3/envs/Bithumb-NFT/lib/site-packages/etherscan/utils/parsing.py?line=12'>13</a>\u001b[0m \u001b[39melse\u001b[39;00m:\n\u001b[0;32m     <a href='file:///c%3A/Users/YOUNGBIN/anaconda3/envs/Bithumb-NFT/lib/site-packages/etherscan/utils/parsing.py?line=13'>14</a>\u001b[0m     \u001b[39m# GETH or Parity proxy msg format\u001b[39;00m\n\u001b[0;32m     <a href='file:///c%3A/Users/YOUNGBIN/anaconda3/envs/Bithumb-NFT/lib/site-packages/etherscan/utils/parsing.py?line=14'>15</a>\u001b[0m     \u001b[39m# TODO: see if we need those values\u001b[39;00m\n\u001b[0;32m     <a href='file:///c%3A/Users/YOUNGBIN/anaconda3/envs/Bithumb-NFT/lib/site-packages/etherscan/utils/parsing.py?line=15'>16</a>\u001b[0m     jsonrpc \u001b[39m=\u001b[39m content[\u001b[39m\"\u001b[39m\u001b[39mjsonrpc\u001b[39m\u001b[39m\"\u001b[39m]\n",
      "\u001b[1;31mAssertionError\u001b[0m: None -- Query Timeout occured. Please select a smaller result dataset"
     ]
    }
   ],
   "source": [
    "for tx in eth.get_normal_txs_by_address(\n",
    "    address='0xBC4CA0EdA7647A8aB7C2061c2E118A18a936f13D', startblock=0, endblock=99999999, sort='des'):\n",
    "    #tempp = tx\n",
    "    if tx['hash'] == '0x99542509b0a9927426ffc99397df508d440a70df048185fefaa7229953c0e18c':\n",
    "        print('found!')\n",
    "        temp = tx\n",
    "        break"
   ]
  },
  {
   "cell_type": "markdown",
   "metadata": {},
   "source": [
    "# Contracts"
   ]
  },
  {
   "cell_type": "code",
   "execution_count": null,
   "metadata": {},
   "outputs": [],
   "source": [
    "# get_contract_execution_status\n",
    "# get_tx_receipt_status\n"
   ]
  },
  {
   "cell_type": "markdown",
   "metadata": {},
   "source": [
    "# Blocks"
   ]
  },
  {
   "cell_type": "code",
   "execution_count": null,
   "metadata": {},
   "outputs": [],
   "source": [
    "# get_block_reward_by_block_number\n",
    "# get_est_block_countdown_time_by_block_number\n",
    "# get_block_number_by_timestamp\n"
   ]
  }
 ],
 "metadata": {
  "interpreter": {
   "hash": "03afded6037486ed0c53f358e8b58bebffc9913443194da400cde4d572fd3772"
  },
  "kernelspec": {
   "display_name": "Python 3.8.13 ('Bithumb-NFT')",
   "language": "python",
   "name": "python3"
  },
  "language_info": {
   "codemirror_mode": {
    "name": "ipython",
    "version": 3
   },
   "file_extension": ".py",
   "mimetype": "text/x-python",
   "name": "python",
   "nbconvert_exporter": "python",
   "pygments_lexer": "ipython3",
   "version": "3.8.13"
  },
  "orig_nbformat": 4
 },
 "nbformat": 4,
 "nbformat_minor": 2
}
