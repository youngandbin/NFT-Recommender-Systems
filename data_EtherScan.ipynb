{
 "cells": [
  {
   "cell_type": "markdown",
   "metadata": {},
   "source": [
    "# import package"
   ]
  },
  {
   "cell_type": "code",
   "execution_count": 1,
   "metadata": {},
   "outputs": [],
   "source": [
    "from etherscan import Etherscan\n",
    "eth = Etherscan('1HZ4Z4Z4SJ61GX2X6WUSS9D8GKJJUPU2FJ') # API key"
   ]
  },
  {
   "cell_type": "code",
   "execution_count": 2,
   "metadata": {},
   "outputs": [],
   "source": [
    "# Meebits\n",
    "# 0x7Bd29408f11D2bFC23c34f18275bBf23bB716Bc7\n",
    "\n",
    "# BAYC\n",
    "# 0xBC4CA0EdA7647A8aB7C2061c2E118A18a936f13D"
   ]
  },
  {
   "cell_type": "markdown",
   "metadata": {},
   "source": [
    "# Accounts"
   ]
  },
  {
   "cell_type": "code",
   "execution_count": 3,
   "metadata": {},
   "outputs": [],
   "source": [
    "# get_eth_balance\n",
    "# get_eth_balance_multiple\n",
    "# get_normal_txs_by_address\n",
    "# get_normal_txs_by_address_paginated\n",
    "# get_internal_txs_by_address\n",
    "# get_internal_txs_by_address_paginated\n",
    "# get_internal_txs_by_txhash\n",
    "# get_internal_txs_by_block_range_paginated\n",
    "# get_erc20_token_transfer_events_by_address\n",
    "# get_erc20_token_transfer_events_by_contract_address_paginated\n",
    "# get_erc20_token_transfer_events_by_address_and_contract_paginated\n",
    "# get_erc721_token_transfer_events_by_address\n",
    "# get_erc721_token_transfer_events_by_contract_address_paginated\n",
    "# get_erc721_token_transfer_events_by_address_and_contract_paginated\n",
    "# get_mined_blocks_by_address\n",
    "# get_mined_blocks_by_address_paginated"
   ]
  },
  {
   "cell_type": "code",
   "execution_count": 4,
   "metadata": {},
   "outputs": [
    {
     "data": {
      "text/plain": [
       "'0'"
      ]
     },
     "execution_count": 4,
     "metadata": {},
     "output_type": "execute_result"
    }
   ],
   "source": [
    "eth.get_eth_balance(\n",
    "    address='0xBC4CA0EdA7647A8aB7C2061c2E118A18a936f13D')  # BAYC"
   ]
  },
  {
   "cell_type": "markdown",
   "metadata": {},
   "source": [
    "## normal transactions"
   ]
  },
  {
   "cell_type": "code",
   "execution_count": 19,
   "metadata": {},
   "outputs": [
    {
     "data": {
      "text/plain": [
       "10000"
      ]
     },
     "execution_count": 19,
     "metadata": {},
     "output_type": "execute_result"
    }
   ],
   "source": [
    "normal_txs = eth.get_normal_txs_by_address(address='0xBC4CA0EdA7647A8aB7C2061c2E118A18a936f13D',\n",
    "                                           startblock=12287507, endblock=14790038, sort='desc') # sort = asc, desc\n",
    "len(normal_txs)  # block: 1만개까지만 존재"
   ]
  },
  {
   "cell_type": "code",
   "execution_count": 29,
   "metadata": {},
   "outputs": [
    {
     "data": {
      "text/plain": [
       "{'blockNumber': '14790038',\n",
       " 'timeStamp': '1652756437',\n",
       " 'hash': '0xad1b60705d0dcfceab9d09c1321d424245f1ebfa9a5c0380a77dd0928a8e1031',\n",
       " 'nonce': '121',\n",
       " 'blockHash': '0x72132a5fabf8af031b9d9af4b2b8e69fa03138c9576fd9a0bdb3a392568f82d4',\n",
       " 'transactionIndex': '210',\n",
       " 'from': '0x0232d1083e970f0c78f56202b9a666b526fa379f',\n",
       " 'to': '0xbc4ca0eda7647a8ab7c2061c2e118a18a936f13d',\n",
       " 'value': '0',\n",
       " 'gas': '43752',\n",
       " 'gasPrice': '36310559148',\n",
       " 'isError': '0',\n",
       " 'txreceipt_status': '1',\n",
       " 'input': '0xa22cb465000000000000000000000000187e8e5c70457c756a5779aeb2227ef098bca7760000000000000000000000000000000000000000000000000000000000000000',\n",
       " 'contractAddress': '',\n",
       " 'cumulativeGasUsed': '9973057',\n",
       " 'gasUsed': '24368',\n",
       " 'confirmations': '229'}"
      ]
     },
     "execution_count": 29,
     "metadata": {},
     "output_type": "execute_result"
    }
   ],
   "source": [
    "normal_txs[0] # method = Set approval for all"
   ]
  },
  {
   "cell_type": "code",
   "execution_count": 25,
   "metadata": {},
   "outputs": [
    {
     "data": {
      "text/plain": [
       "{'blockNumber': '14790024',\n",
       " 'timeStamp': '1652756248',\n",
       " 'hash': '0x6845ba1fdd1a6fbc99edf92f20b84f2d6d1a74eaf243f254807e9c47acbb2873',\n",
       " 'nonce': '0',\n",
       " 'blockHash': '0xc72910eeb84cf0c83b4008de4fc83e70fca2e591461c4157f5bcbb19170364df',\n",
       " 'transactionIndex': '42',\n",
       " 'from': '0xb530b3ede6d22d307eb13c5691f6018576d88a15',\n",
       " 'to': '0xbc4ca0eda7647a8ab7c2061c2e118a18a936f13d',\n",
       " 'value': '0',\n",
       " 'gas': '107499',\n",
       " 'gasPrice': '39778683717',\n",
       " 'isError': '0',\n",
       " 'txreceipt_status': '1',\n",
       " 'input': '0x23b872dd000000000000000000000000b530b3ede6d22d307eb13c5691f6018576d88a15000000000000000000000000f4e423ce220e4d9fedcfebcd755ff9d37dc244b2000000000000000000000000000000000000000000000000000000000000130a',\n",
       " 'contractAddress': '',\n",
       " 'cumulativeGasUsed': '2465323',\n",
       " 'gasUsed': '93099',\n",
       " 'confirmations': '243'}"
      ]
     },
     "execution_count": 25,
     "metadata": {},
     "output_type": "execute_result"
    }
   ],
   "source": [
    "normal_txs[1] # method = Transfer from"
   ]
  },
  {
   "cell_type": "code",
   "execution_count": 32,
   "metadata": {},
   "outputs": [
    {
     "data": {
      "text/plain": [
       "5"
      ]
     },
     "execution_count": 32,
     "metadata": {},
     "output_type": "execute_result"
    }
   ],
   "source": [
    "internal_txs = eth.get_internal_txs_by_address(address='0xBC4CA0EdA7647A8aB7C2061c2E118A18a936f13D', \n",
    "                                             startblock=12287507, endblock=14790038, sort='desc')\n",
    "len(internal_txs)"
   ]
  },
  {
   "cell_type": "code",
   "execution_count": 33,
   "metadata": {},
   "outputs": [
    {
     "data": {
      "text/plain": [
       "[{'blockNumber': '12347264',\n",
       "  'timeStamp': '1619858426',\n",
       "  'hash': '0xedae047498557fdf1d6904086e7020bb55af122fff040cb77c4c2b26c1ab5b32',\n",
       "  'from': '0xbc4ca0eda7647a8ab7c2061c2e118a18a936f13d',\n",
       "  'to': '0xaba7161a7fb69c88e16ed9f455ce62b791ee4d03',\n",
       "  'value': '322560000000000000000',\n",
       "  'contractAddress': '',\n",
       "  'input': '',\n",
       "  'type': 'call',\n",
       "  'gas': '2300',\n",
       "  'gasUsed': '0',\n",
       "  'traceId': '0',\n",
       "  'isError': '0',\n",
       "  'errCode': ''},\n",
       " {'blockNumber': '12347079',\n",
       "  'timeStamp': '1619855792',\n",
       "  'hash': '0x522998f05ffb2c891201c6975193aa30b40c44e95bfa45bda54095ad68b79f7a',\n",
       "  'from': '0xbc4ca0eda7647a8ab7c2061c2e118a18a936f13d',\n",
       "  'to': '0xaba7161a7fb69c88e16ed9f455ce62b791ee4d03',\n",
       "  'value': '423520000000000000000',\n",
       "  'contractAddress': '',\n",
       "  'input': '',\n",
       "  'type': 'call',\n",
       "  'gas': '2300',\n",
       "  'gasUsed': '0',\n",
       "  'traceId': '0',\n",
       "  'isError': '0',\n",
       "  'errCode': ''},\n",
       " {'blockNumber': '12345022',\n",
       "  'timeStamp': '1619828172',\n",
       "  'hash': '0x02f1fe8b0939a89204f5f2c515c76eb8623c848af69ee100322d04b625fef382',\n",
       "  'from': '0xbc4ca0eda7647a8ab7c2061c2e118a18a936f13d',\n",
       "  'to': '0xaba7161a7fb69c88e16ed9f455ce62b791ee4d03',\n",
       "  'value': '25440000000000000000',\n",
       "  'contractAddress': '',\n",
       "  'input': '',\n",
       "  'type': 'call',\n",
       "  'gas': '2300',\n",
       "  'gasUsed': '0',\n",
       "  'traceId': '0',\n",
       "  'isError': '0',\n",
       "  'errCode': ''},\n",
       " {'blockNumber': '12338474',\n",
       "  'timeStamp': '1619740517',\n",
       "  'hash': '0xc414f20f543f407e2c8b7556790fa873bd3c84f15862ada90b56172e570ee630',\n",
       "  'from': '0xbc4ca0eda7647a8ab7c2061c2e118a18a936f13d',\n",
       "  'to': '0xaba7161a7fb69c88e16ed9f455ce62b791ee4d03',\n",
       "  'value': '12080000000000000000',\n",
       "  'contractAddress': '',\n",
       "  'input': '',\n",
       "  'type': 'call',\n",
       "  'gas': '2300',\n",
       "  'gasUsed': '0',\n",
       "  'traceId': '0',\n",
       "  'isError': '0',\n",
       "  'errCode': ''},\n",
       " {'blockNumber': '12319428',\n",
       "  'timeStamp': '1619486581',\n",
       "  'hash': '0x4f649094fbaa6e5da7da6bd221fad22b2a8beb5f6c45d49ba8e4b2222672dc1f',\n",
       "  'from': '0xbc4ca0eda7647a8ab7c2061c2e118a18a936f13d',\n",
       "  'to': '0xaba7161a7fb69c88e16ed9f455ce62b791ee4d03',\n",
       "  'value': '14000000000000000000',\n",
       "  'contractAddress': '',\n",
       "  'input': '',\n",
       "  'type': 'call',\n",
       "  'gas': '2300',\n",
       "  'gasUsed': '0',\n",
       "  'traceId': '0',\n",
       "  'isError': '0',\n",
       "  'errCode': ''}]"
      ]
     },
     "execution_count": 33,
     "metadata": {},
     "output_type": "execute_result"
    }
   ],
   "source": [
    "internal_txs\n"
   ]
  },
  {
   "cell_type": "code",
   "execution_count": null,
   "metadata": {},
   "outputs": [],
   "source": []
  },
  {
   "cell_type": "code",
   "execution_count": 28,
   "metadata": {},
   "outputs": [
    {
     "name": "stdout",
     "output_type": "stream",
     "text": [
      "found!\n"
     ]
    }
   ],
   "source": [
    "# 원하는 txn hash 찾기\n",
    "\n",
    "for tx in eth.get_normal_txs_by_address(\n",
    "    address='0xBC4CA0EdA7647A8aB7C2061c2E118A18a936f13D', startblock=0, endblock=99999999, sort='desc'):\n",
    "    #tempp = tx\n",
    "    if tx['hash'] == '0x6845ba1fdd1a6fbc99edf92f20b84f2d6d1a74eaf243f254807e9c47acbb2873':\n",
    "        print('found!')\n",
    "        temp = tx\n",
    "        break"
   ]
  },
  {
   "cell_type": "markdown",
   "metadata": {},
   "source": [
    "# Contracts"
   ]
  },
  {
   "cell_type": "code",
   "execution_count": null,
   "metadata": {},
   "outputs": [],
   "source": [
    "# get_contract_execution_status\n",
    "# get_tx_receipt_status\n"
   ]
  },
  {
   "cell_type": "markdown",
   "metadata": {},
   "source": [
    "# Blocks"
   ]
  },
  {
   "cell_type": "code",
   "execution_count": null,
   "metadata": {},
   "outputs": [],
   "source": [
    "# get_block_reward_by_block_number\n",
    "# get_est_block_countdown_time_by_block_number\n",
    "# get_block_number_by_timestamp\n"
   ]
  }
 ],
 "metadata": {
  "interpreter": {
   "hash": "03afded6037486ed0c53f358e8b58bebffc9913443194da400cde4d572fd3772"
  },
  "kernelspec": {
   "display_name": "Python 3.8.13 ('Bithumb-NFT')",
   "language": "python",
   "name": "python3"
  },
  "language_info": {
   "codemirror_mode": {
    "name": "ipython",
    "version": 3
   },
   "file_extension": ".py",
   "mimetype": "text/x-python",
   "name": "python",
   "nbconvert_exporter": "python",
   "pygments_lexer": "ipython3",
   "version": "3.8.13"
  },
  "orig_nbformat": 4
 },
 "nbformat": 4,
 "nbformat_minor": 2
}
